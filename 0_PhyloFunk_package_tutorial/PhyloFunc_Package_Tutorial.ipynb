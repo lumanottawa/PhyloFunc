{
 "cells": [
  {
   "cell_type": "code",
   "execution_count": null,
   "id": "20d87a82",
   "metadata": {},
   "outputs": [],
   "source": [
    "## This notebook provides a tutorial to calculate PhyloFunc distance using PhyloFunc package\n",
    "## Users can use pip to install PhyloFunc: \n",
    "!pip install PhyloFunc "
   ]
  },
  {
   "cell_type": "code",
   "execution_count": 1,
   "id": "e4285cbc",
   "metadata": {},
   "outputs": [],
   "source": [
    "import pandas as pd"
   ]
  },
  {
   "cell_type": "code",
   "execution_count": 2,
   "id": "33f775c5",
   "metadata": {},
   "outputs": [],
   "source": [
    "# Step1: Prepare the metaproteomic Taxon-Function table in CSV format, \n",
    "## Table Instructions:\n",
    "### Include taxa IDs, functional accessions, and protein intensity.\n",
    "### First column: Taxa IDs.\n",
    "### Second column: Functional accession.\n",
    "### Additional columns: Metaproteomic intensity data.\n",
    "### Group by taxon-function pairs and sum intensity values.\n",
    "\n",
    "# Read the example Genome-COG table (i.e. Taxon-Function table)\n",
    "## The example dataset shows an in vitro human gut microbiome cultured in a RapidAIM assay,\n",
    "## with or without the presence different concentrations of diclofenac (DCLF).\n",
    "Genome_COG = pd.read_csv(\"Genome-COG.csv\", sep = ',')\n",
    "\n",
    "# Additional notes\n",
    "## \"Genome\" in the example data refers to Genome IDs in the MGYG (UHGG) database.\n",
    "## To use the embedded UHGG tree file, users can search with MetaLab-MAG or their own UHGG database.\n",
    "## Genome ids can be extracted from the protein groups."
   ]
  },
  {
   "cell_type": "code",
   "execution_count": 5,
   "id": "fb539a11",
   "metadata": {
    "scrolled": false
   },
   "outputs": [
    {
     "name": "stdout",
     "output_type": "stream",
     "text": [
      "The optimized PhyloFunc distance between \"DC.M.48.1\" and \"DC.H.48.1\" is 0.8489349045752694.\n",
      "Finish, time consumed: 60.13 seconds\n"
     ]
    }
   ],
   "source": [
    "# Step2.1: import PhyloFunc package and calculate the PhyloFunc distance \n",
    "\n",
    "from PhyloFunc import PhyloFunc_distance\n",
    "\n",
    "# Let's first perform a PhyloFunc distance calculation with one pair of sample\n",
    "## Extract a pair of samples\n",
    "sample_pair=Genome_COG.iloc[:, :4]\n",
    "sample_pair.to_csv(\"sample_pair.csv\",index=False)\n",
    "\n",
    "# Compute PhyloFunc distance\n",
    "## UHGG-based tree is automatically called within the function\n",
    "## If user use self-defined tree, use the tree_file='user_tree_file.nwk' option.\n",
    "PhyloFunc_distance(sample_file=\"sample_pair.csv\")"
   ]
  },
  {
   "cell_type": "code",
   "execution_count": 4,
   "id": "e7dc408f",
   "metadata": {
    "scrolled": false
   },
   "outputs": [
    {
     "name": "stdout",
     "output_type": "stream",
     "text": [
      "The PhyloFunc distance between \"DC.M.48.1\" and \"DC.H.48.1\" is 0.8489349045752694.\n",
      "The PhyloFunc distance between \"DC.M.48.1\" and \"DC.M.48.2\" is 0.26207342480790713.\n",
      "The PhyloFunc distance between \"DC.M.48.1\" and \"NC.1D.48.1\" is 0.46248616401030174.\n",
      "The PhyloFunc distance between \"DC.M.48.1\" and \"DC.H.48.2\" is 0.8407710418998583.\n",
      "The PhyloFunc distance between \"DC.M.48.1\" and \"DC.L.48.1\" is 0.43509764349773533.\n",
      "The PhyloFunc distance between \"DC.M.48.1\" and \"NC.1D.48.2\" is 0.5006749261394454.\n",
      "The PhyloFunc distance between \"DC.M.48.1\" and \"DC.L.48.2\" is 0.39279154152208623.\n",
      "The PhyloFunc distance between \"DC.M.48.1\" and \"DC.L.48.3\" is 0.44120918548652105.\n",
      "The PhyloFunc distance between \"DC.M.48.1\" and \"DC.H.48.3\" is 0.8497605606265919.\n",
      "The PhyloFunc distance between \"DC.M.48.1\" and \"DC.M.48.3\" is 0.2829293088572314.\n",
      "The PhyloFunc distance between \"DC.M.48.1\" and \"NC.1D.48.3\" is 0.4393382395596607.\n",
      "The PhyloFunc distance between \"DC.H.48.1\" and \"DC.M.48.2\" is 0.8729610803512104.\n",
      "The PhyloFunc distance between \"DC.H.48.1\" and \"NC.1D.48.1\" is 0.9604362241196281.\n",
      "The PhyloFunc distance between \"DC.H.48.1\" and \"DC.H.48.2\" is 0.5220425963184373.\n",
      "The PhyloFunc distance between \"DC.H.48.1\" and \"DC.L.48.1\" is 0.9404192703307777.\n",
      "The PhyloFunc distance between \"DC.H.48.1\" and \"NC.1D.48.2\" is 0.988118126090505.\n",
      "The PhyloFunc distance between \"DC.H.48.1\" and \"DC.L.48.2\" is 0.9135435285121658.\n",
      "The PhyloFunc distance between \"DC.H.48.1\" and \"DC.L.48.3\" is 0.9580156171134914.\n",
      "The PhyloFunc distance between \"DC.H.48.1\" and \"DC.H.48.3\" is 0.4048462653821419.\n",
      "The PhyloFunc distance between \"DC.H.48.1\" and \"DC.M.48.3\" is 0.8585864258587065.\n",
      "The PhyloFunc distance between \"DC.H.48.1\" and \"NC.1D.48.3\" is 0.9326358535494432.\n",
      "The PhyloFunc distance between \"DC.M.48.2\" and \"NC.1D.48.1\" is 0.4402883995301753.\n",
      "The PhyloFunc distance between \"DC.M.48.2\" and \"DC.H.48.2\" is 0.8531807355053459.\n",
      "The PhyloFunc distance between \"DC.M.48.2\" and \"DC.L.48.1\" is 0.4173763225784316.\n",
      "The PhyloFunc distance between \"DC.M.48.2\" and \"NC.1D.48.2\" is 0.49179939552461394.\n",
      "The PhyloFunc distance between \"DC.M.48.2\" and \"DC.L.48.2\" is 0.34892224778073383.\n",
      "The PhyloFunc distance between \"DC.M.48.2\" and \"DC.L.48.3\" is 0.4186962449959794.\n",
      "The PhyloFunc distance between \"DC.M.48.2\" and \"DC.H.48.3\" is 0.8643581782325627.\n",
      "The PhyloFunc distance between \"DC.M.48.2\" and \"DC.M.48.3\" is 0.3269458235670793.\n",
      "The PhyloFunc distance between \"DC.M.48.2\" and \"NC.1D.48.3\" is 0.4391320092978237.\n",
      "The PhyloFunc distance between \"NC.1D.48.1\" and \"DC.H.48.2\" is 0.9555657748487677.\n",
      "The PhyloFunc distance between \"NC.1D.48.1\" and \"DC.L.48.1\" is 0.41231091820043564.\n",
      "The PhyloFunc distance between \"NC.1D.48.1\" and \"NC.1D.48.2\" is 0.36882764185451133.\n",
      "The PhyloFunc distance between \"NC.1D.48.1\" and \"DC.L.48.2\" is 0.33938291506984364.\n",
      "The PhyloFunc distance between \"NC.1D.48.1\" and \"DC.L.48.3\" is 0.3360782641801395.\n",
      "The PhyloFunc distance between \"NC.1D.48.1\" and \"DC.H.48.3\" is 0.965323512951881.\n",
      "The PhyloFunc distance between \"NC.1D.48.1\" and \"DC.M.48.3\" is 0.46070486658698656.\n",
      "The PhyloFunc distance between \"NC.1D.48.1\" and \"NC.1D.48.3\" is 0.3820277590647693.\n",
      "The PhyloFunc distance between \"DC.H.48.2\" and \"DC.L.48.1\" is 0.9407314141479547.\n",
      "The PhyloFunc distance between \"DC.H.48.2\" and \"NC.1D.48.2\" is 0.9872732186887069.\n",
      "The PhyloFunc distance between \"DC.H.48.2\" and \"DC.L.48.2\" is 0.9119596968022541.\n",
      "The PhyloFunc distance between \"DC.H.48.2\" and \"DC.L.48.3\" is 0.9560340141988383.\n",
      "The PhyloFunc distance between \"DC.H.48.2\" and \"DC.H.48.3\" is 0.39207352801800704.\n",
      "The PhyloFunc distance between \"DC.H.48.2\" and \"DC.M.48.3\" is 0.8513454788731057.\n",
      "The PhyloFunc distance between \"DC.H.48.2\" and \"NC.1D.48.3\" is 0.9380893447030727.\n",
      "The PhyloFunc distance between \"DC.L.48.1\" and \"NC.1D.48.2\" is 0.3721560327241778.\n",
      "The PhyloFunc distance between \"DC.L.48.1\" and \"DC.L.48.2\" is 0.38970835587904173.\n",
      "The PhyloFunc distance between \"DC.L.48.1\" and \"DC.L.48.3\" is 0.4401265037739608.\n",
      "The PhyloFunc distance between \"DC.L.48.1\" and \"DC.H.48.3\" is 0.9524853886183758.\n",
      "The PhyloFunc distance between \"DC.L.48.1\" and \"DC.M.48.3\" is 0.4308680760468418.\n",
      "The PhyloFunc distance between \"DC.L.48.1\" and \"NC.1D.48.3\" is 0.32243062487536117.\n",
      "The PhyloFunc distance between \"NC.1D.48.2\" and \"DC.L.48.2\" is 0.3519057848101492.\n",
      "The PhyloFunc distance between \"NC.1D.48.2\" and \"DC.L.48.3\" is 0.4024899371781244.\n",
      "The PhyloFunc distance between \"NC.1D.48.2\" and \"DC.H.48.3\" is 0.9928068257883066.\n",
      "The PhyloFunc distance between \"NC.1D.48.2\" and \"DC.M.48.3\" is 0.4782690679761424.\n",
      "The PhyloFunc distance between \"NC.1D.48.2\" and \"NC.1D.48.3\" is 0.35193440612364235.\n",
      "The PhyloFunc distance between \"DC.L.48.2\" and \"DC.L.48.3\" is 0.37348877980505896.\n",
      "The PhyloFunc distance between \"DC.L.48.2\" and \"DC.H.48.3\" is 0.9164766446644493.\n",
      "The PhyloFunc distance between \"DC.L.48.2\" and \"DC.M.48.3\" is 0.38420007201859413.\n",
      "The PhyloFunc distance between \"DC.L.48.2\" and \"NC.1D.48.3\" is 0.3371186491090353.\n",
      "The PhyloFunc distance between \"DC.L.48.3\" and \"DC.H.48.3\" is 0.9679829965950087.\n",
      "The PhyloFunc distance between \"DC.L.48.3\" and \"DC.M.48.3\" is 0.4594690999840071.\n",
      "The PhyloFunc distance between \"DC.L.48.3\" and \"NC.1D.48.3\" is 0.43523809567594646.\n",
      "The PhyloFunc distance between \"DC.H.48.3\" and \"DC.M.48.3\" is 0.8582422015131533.\n",
      "The PhyloFunc distance between \"DC.H.48.3\" and \"NC.1D.48.3\" is 0.9413998657959441.\n",
      "The PhyloFunc distance between \"DC.M.48.3\" and \"NC.1D.48.3\" is 0.4158634965641396.\n",
      "Finish, time consumed: 2285.12 seconds\n"
     ]
    }
   ],
   "source": [
    "# Step2.2: calculate PhyloFunc distance matrix for all samples\n",
    "## This may take around 30 minutes for the example dataset.\n",
    "\n",
    "from PhyloFunc import PhyloFunc_matrix\n",
    "\n",
    "data_PhyloFunc_all=PhyloFunc_matrix(sample_file=\"Genome-COG.csv\")\n"
   ]
  },
  {
   "cell_type": "code",
   "execution_count": 6,
   "id": "f51f789d",
   "metadata": {},
   "outputs": [
    {
     "data": {
      "image/png": "[encoded data removed]",
      "text/plain": [
       "<Figure size 800x500 with 1 Axes>"
      ]
     },
     "metadata": {},
     "output_type": "display_data"
    }
   ],
   "source": [
    "# Step3: Draw a hierarchical clustering plot based on the resulting PhyloFunc matrix\n",
    "import matplotlib.pyplot as plt\n",
    "from scipy.cluster.hierarchy import dendrogram, linkage\n",
    "from scipy.spatial.distance import squareform\n",
    "import pandas as pd\n",
    "\n",
    "# Generate distance \n",
    "data_PhyloFunc = data_PhyloFunc_all.T\n",
    "data_PhyloFunc_array = squareform(data_PhyloFunc)\n",
    "linkage_PhyloFunc = linkage(data_PhyloFunc_array, method='average')\n",
    "\n",
    "# Create a single subplot\n",
    "fig, ax = plt.subplots(figsize=(8, 5))\n",
    "\n",
    "dendrogram_kwargs = dict(leaf_rotation=90, color_threshold=0, above_threshold_color='black')\n",
    "\n",
    "# Plot bierarchical clustering\n",
    "dendrogram(linkage_PhyloFunc, ax=ax, labels=data_PhyloFunc.index, **dendrogram_kwargs)\n",
    "ax.set_title('PhyloFunc Distance (Average Linkage)')\n",
    "ax.set_ylabel('Height')\n",
    "\n",
    "# Add annotation text\n",
    "ax.text(0.5, -0.4, \"Sample IDs\",\n",
    "        ha='center', va='center', transform=ax.transAxes, fontsize=10)\n",
    "\n",
    "# Adjust axis style\n",
    "def style_axes(ax):\n",
    "    ax.spines['top'].set_visible(False)\n",
    "    ax.spines['right'].set_visible(False)\n",
    "    ax.spines['bottom'].set_visible(False)\n",
    "style_axes(ax)\n",
    "plt.show()\n"
   ]
  }
 ],
 "metadata": {
  "kernelspec": {
   "display_name": "Python 3 (ipykernel)",
   "language": "python",
   "name": "python3"
  },
  "language_info": {
   "codemirror_mode": {
    "name": "ipython",
    "version": 3
   },
   "file_extension": ".py",
   "mimetype": "text/x-python",
   "name": "python",
   "nbconvert_exporter": "python",
   "pygments_lexer": "ipython3",
   "version": "3.11.5"
  }
 },
 "nbformat": 4,
 "nbformat_minor": 5
}
